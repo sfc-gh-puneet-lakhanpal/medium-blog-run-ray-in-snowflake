{
 "cells": [
  {
   "cell_type": "code",
   "execution_count": null,
   "id": "18706cce-0f96-42c4-8662-1c818d0707e4",
   "metadata": {},
   "outputs": [],
   "source": [
    "import requests\n",
    "import json"
   ]
  },
  {
   "cell_type": "code",
   "execution_count": null,
   "id": "a7b4a864-6dee-4b58-92c1-cac00bcd3350",
   "metadata": {},
   "outputs": [],
   "source": [
    "prompt = \"\"\"[INST] \n",
    "Summarize the following conversation in one paragraph.\n",
    "[/INST]\n",
    "\"\"\"\n",
    "    "
   ]
  },
  {
   "cell_type": "code",
   "execution_count": null,
   "id": "881d4cbe-989c-4ce9-92b5-2afa2401f525",
   "metadata": {},
   "outputs": [],
   "source": [
    "endpoint = \"http://spcs-ray-custom-head-service:8000/vicuna13bapi/\""
   ]
  },
  {
   "cell_type": "code",
   "execution_count": null,
   "id": "e245dda1-ef45-479c-81c9-68a7f43fcc56",
   "metadata": {},
   "outputs": [],
   "source": [
    "def send_sample_batch_request(prompt):\n",
    "    sample_input = {\"prompt\": prompt, \n",
    "                    \"stream\": False,\n",
    "                    \"n\": 1, #Number of output sequences to return for the given prompt\n",
    "                    \"max_tokens\": 512, #Maximum number of tokens to generate per output sequence\n",
    "                    #\"top_k\": -1, #Integer that controls the number of top tokens to consider\n",
    "                    #\"top_p\": 1.0, #Float that controls the cumulative probability of the top tokens to consider\n",
    "                    \"temperature\": 0.0, #Float that controls the randomness of the sampling.\n",
    "                    \"presence_penalty\": 1.0,#Float that penalizes new tokens based on whether they appear in the generated text so far\n",
    "                    \"frequency_penalty\": 0.0,#Float that penalizes new tokens based on their frequency in the generated text so far\n",
    "                    \"ignore_eos\": False, #Whether to ignore the EOS token and continue generating tokens after the EOS token is generated\n",
    "                    \"use_beam_search\": False, #Whether to use beam search instead of sampling\n",
    "                   }\n",
    "    try:\n",
    "        response = requests.post(endpoint, json=sample_input)\n",
    "        response.raise_for_status()\n",
    "        return response\n",
    "    except requests.exceptions.HTTPError as errh:\n",
    "        print (\"Http Error:\",errh)\n",
    "    except requests.exceptions.ConnectionError as errc:\n",
    "        print (\"Error Connecting:\",errc)\n",
    "    except requests.exceptions.Timeout as errt:\n",
    "        print (\"Timeout Error:\",errt)\n",
    "    except requests.exceptions.RequestException as err:\n",
    "        print (\"OOps: Something Else\",err)"
   ]
  },
  {
   "cell_type": "code",
   "execution_count": null,
   "id": "351b5b6b-5ffb-4627-b0e1-64355760417d",
   "metadata": {},
   "outputs": [],
   "source": [
    "def send_sample_streaming_request(prompt):\n",
    "    sample_input = {\"prompt\": prompt, \n",
    "                    \"stream\": True,\n",
    "                    \"n\": 1, #Number of output sequences to return for the given prompt\n",
    "                    \"max_tokens\": 512, #Maximum number of tokens to generate per output sequence\n",
    "                    #\"top_k\": -1, #Integer that controls the number of top tokens to consider\n",
    "                    #\"top_p\": 1.0, #Float that controls the cumulative probability of the top tokens to consider\n",
    "                    \"temperature\": 0.0, #Float that controls the randomness of the sampling.\n",
    "                    \"presence_penalty\": 1.0,#Float that penalizes new tokens based on whether they appear in the generated text so far\n",
    "                    \"frequency_penalty\": 0.0,#Float that penalizes new tokens based on their frequency in the generated text so far\n",
    "                    \"ignore_eos\": False, #Whether to ignore the EOS token and continue generating tokens after the EOS token is generated\n",
    "                    \"use_beam_search\": False, #Whether to use beam search instead of sampling\n",
    "                   }\n",
    "    output = requests.post(endpoint, json=sample_input, stream=True)\n",
    "    return output"
   ]
  },
  {
   "cell_type": "markdown",
   "id": "22ef52a9-7b7d-43d7-80a8-32322163c97b",
   "metadata": {},
   "source": [
    "# Prompt response"
   ]
  },
  {
   "cell_type": "code",
   "execution_count": null,
   "id": "7f5b19b7-c7d6-4612-b85d-32d054177f06",
   "metadata": {
    "tags": []
   },
   "outputs": [],
   "source": [
    "%%time\n",
    "response = send_sample_batch_request(prompt)\n",
    "if response.status_code == 200:\n",
    "    output = json.loads(response.text)[\"text\"][0]\n",
    "    print(output)\n",
    "else:\n",
    "    print ('Boo!')"
   ]
  }
 ],
 "metadata": {
  "kernelspec": {
   "display_name": "Python 3 (ipykernel)",
   "language": "python",
   "name": "python3"
  },
  "language_info": {
   "codemirror_mode": {
    "name": "ipython",
    "version": 3
   },
   "file_extension": ".py",
   "mimetype": "text/x-python",
   "name": "python",
   "nbconvert_exporter": "python",
   "pygments_lexer": "ipython3",
   "version": "3.10.12"
  }
 },
 "nbformat": 4,
 "nbformat_minor": 5
}
